{
 "cells": [
  {
   "cell_type": "code",
   "execution_count": null,
   "metadata": {},
   "outputs": [],
   "source": [
    "import numpy as np"
   ]
  },
  {
   "cell_type": "code",
   "execution_count": null,
   "metadata": {},
   "outputs": [],
   "source": [
    "samplefreq = 1000000/30; # sampling freq for timer in Hertz\n",
    "freq = 3000; # freq of sinewave in Hertz \n",
    "sinetablesize = (samplefreq -(samplefreq%freq))/freq\n",
    "\n",
    "sinetable = np.zeros((36, sinetablesize))\n",
    "\n",
    "ampl =0.001\n",
    "\n",
    "max_bits = 524287\n",
    "# generate the table\n",
    "\n",
    "for h in range(36):\n",
    "    for j in range(sinetablesize):\n",
    "        sinetable[h][j] = max_bits*(ampl*np.sin(j*2*np.pi/sinetablesize+2*h*np.pi/36))/10"
   ]
  }
 ],
 "metadata": {
  "language_info": {
   "name": "python"
  },
  "orig_nbformat": 4
 },
 "nbformat": 4,
 "nbformat_minor": 2
}
